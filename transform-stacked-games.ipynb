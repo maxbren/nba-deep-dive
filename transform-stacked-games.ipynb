{
 "cells": [
  {
   "cell_type": "code",
   "execution_count": 21,
   "metadata": {
    "collapsed": true
   },
   "outputs": [],
   "source": [
    "# Takes the stacked games dataset (built for ML model) and transforms to a dataset better for exploration\n",
    "import pandas as pd"
   ]
  },
  {
   "cell_type": "code",
   "execution_count": 22,
   "metadata": {
    "collapsed": true
   },
   "outputs": [],
   "source": [
    "df = pd.read_excel('processed-data/stacked-games.xlsx')"
   ]
  },
  {
   "cell_type": "code",
   "execution_count": 23,
   "metadata": {},
   "outputs": [],
   "source": [
    "new_rows = []\n",
    "game_id = 0\n",
    "old_date = None\n",
    "for index, row in df.iterrows():\n",
    "    date = row['Date']\n",
    "    # Reset game_id if date change\n",
    "    if date != old_date:\n",
    "        game_id = 0\n",
    "    else:\n",
    "        game_id += 1\n",
    "    new_row_one = [row['Date'], row['Season'], game_id, True, row['Visitor'], row['PTS-V'], row['W-V'], row['L-V'],\n",
    "                  True if row['winner'] == 0 else False, row['Rest-V'], row['S1-V'], row['S2-V'], row['S3-V'], \n",
    "                  row['S4-V'], row['S5-V'], True if row['Starter Change V'] == 1 else False, \n",
    "                   row['dist change'], row['alt change']]\n",
    "    \n",
    "    new_row_two = [row['Date'], row['Season'], game_id, False, row['Home'], row['PTS-H'], row['W-H'], row['L-H'],\n",
    "              True if row['winner'] == 1 else False, row['Rest-H'], row['S1-H'], row['S2-H'], row['S3-H'], \n",
    "              row['S4-H'], row['S5-H'], True if row['Starter Change H'] == 1 else False, 0, 0]\n",
    "    new_rows.extend([new_row_one, new_row_two])\n",
    "    old_date = date"
   ]
  },
  {
   "cell_type": "code",
   "execution_count": 24,
   "metadata": {
    "collapsed": true
   },
   "outputs": [],
   "source": [
    "new_cols = ['Date', 'Season', 'Game ID', 'Visitor?', 'Team', 'Pts', 'Wins', 'Losses', 'Won', 'Rest Days', 'Starter 1', \n",
    "            'Starter 2', 'Starter 3', 'Starter 4', 'Starter 5', 'Starter Change', 'Distance Change', 'Altitude Change']"
   ]
  },
  {
   "cell_type": "code",
   "execution_count": 25,
   "metadata": {
    "collapsed": true
   },
   "outputs": [],
   "source": [
    "new_df = pd.DataFrame(new_rows, columns=new_cols)"
   ]
  },
  {
   "cell_type": "code",
   "execution_count": 26,
   "metadata": {},
   "outputs": [
    {
     "name": "stderr",
     "output_type": "stream",
     "text": [
      "C:\\Users\\Max Brenner\\Anaconda3\\lib\\site-packages\\pandas\\compat\\_optional.py:106: UserWarning: Pandas requires version '0.9.8' or newer of 'xlsxwriter' (version '0.9.6' currently installed).\n",
      "  warnings.warn(msg, UserWarning)\n"
     ]
    }
   ],
   "source": [
    "new_df.to_excel('processed-data/games-transformed.xlsx', index=False)"
   ]
  },
  {
   "cell_type": "code",
   "execution_count": null,
   "metadata": {
    "collapsed": true
   },
   "outputs": [],
   "source": []
  }
 ],
 "metadata": {
  "kernelspec": {
   "display_name": "Python 3",
   "language": "python",
   "name": "python3"
  },
  "language_info": {
   "codemirror_mode": {
    "name": "ipython",
    "version": 3
   },
   "file_extension": ".py",
   "mimetype": "text/x-python",
   "name": "python",
   "nbconvert_exporter": "python",
   "pygments_lexer": "ipython3",
   "version": "3.6.8"
  }
 },
 "nbformat": 4,
 "nbformat_minor": 2
}
